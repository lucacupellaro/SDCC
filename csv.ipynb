{
 "cells": [
  {
   "cell_type": "code",
   "execution_count": null,
   "id": "5baaa687",
   "metadata": {},
   "outputs": [
    {
     "name": "stdout",
     "output_type": "stream",
     "text": [
      "Path to dataset files: /home/luca/.cache/kagglehub/datasets/nenamalikah/nft-collections-by-sales-volume/versions/2\n",
      "   Index                               Name    Volume    Volume_USD  \\\n",
      "0      0                      basis.markets  27256.63  4.001818e+06   \n",
      "1      1               Skeleton Crew Skulls  11381.25  1.670995e+06   \n",
      "2      2                           Flippies   6732.19  9.884201e+05   \n",
      "3      3  Meerkat Millionaires Country Club   3734.76  5.483375e+05   \n",
      "4      4                      Stylish Studs   3191.15  4.685246e+05   \n",
      "\n",
      "    Market_Cap  Market_Cap_USD  Sales  Floor_Price  Floor_Price_USD  \\\n",
      "0   708.145455    103969.91560    366        39.50        5799.3900   \n",
      "1   106.656000     15659.23392   2075         0.67          98.3694   \n",
      "2  1663.863158    244288.38880   1504         0.80         117.4560   \n",
      "3    90.275000     13254.17550    395         3.79         556.4478   \n",
      "4   165.000000     24225.30000    729         4.30         631.3260   \n",
      "\n",
      "   Average_Price  Average_Price_USD  Owners  Assets  Owner_Asset_Ratio  \\\n",
      "0      74.471667       10933.930100      12      16              75.00   \n",
      "1       5.484940         805.298855     103     132              78.03   \n",
      "2       4.476190         657.194239     905    1638              55.25   \n",
      "3       9.455089        1388.196109      19      23              82.61   \n",
      "4       4.377435         642.694984      28      50              56.00   \n",
      "\n",
      "                         Category                            Website  \\\n",
      "0  Collectibles,Digital,Privilege             https://basis.markets/   \n",
      "1                             NaN          https://skeletoncrew.rip/   \n",
      "2                             NaN          https://www.flippies.art/   \n",
      "3                             NaN  https://meerkatmillionaires.club/   \n",
      "4                             NaN            https://stylishstuds.io   \n",
      "\n",
      "                                                Logo  \n",
      "0  https://content.solsea.io/files/thumbnail/1636...  \n",
      "1  https://content.solsea.io/files/thumbnail/1633...  \n",
      "2  https://content.solsea.io/files/thumbnail/1632...  \n",
      "3  https://content.solsea.io/files/thumbnail/1632...  \n",
      "4  https://content.solsea.io/files/thumbnail/1632...  \n",
      "Index(['Index', 'Name', 'Volume', 'Volume_USD', 'Market_Cap', 'Market_Cap_USD',\n",
      "       'Sales', 'Floor_Price', 'Floor_Price_USD', 'Average_Price',\n",
      "       'Average_Price_USD', 'Owners', 'Assets', 'Owner_Asset_Ratio',\n",
      "       'Category', 'Website', 'Logo'],\n",
      "      dtype='object')\n"
     ]
    }
   ],
   "source": [
    "import kagglehub\n",
    "import pandas as pd\n",
    "import os\n",
    "\n",
    "# Scarica il dataset\n",
    "path = kagglehub.dataset_download(\"nenamalikah/nft-collections-by-sales-volume\")\n",
    "\n",
    "print(\"Path to dataset files:\", path)\n",
    "\n",
    "# Trova il file CSV nella cartella scaricata\n",
    "for file in os.listdir(path):\n",
    "    if file.endswith(\".csv\"):\n",
    "        csv_file = os.path.join(path, file)\n",
    "        break\n",
    "\n",
    "# Leggi il CSV e stampa le prime 5 righe\n",
    "df = pd.read_csv(csv_file)\n",
    "print(df.head(5))\n"
   ]
  },
  {
   "cell_type": "code",
   "execution_count": null,
   "id": "d2b383bd",
   "metadata": {},
   "outputs": [
    {
     "name": "stdout",
     "output_type": "stream",
     "text": [
      "Index(['Index', 'Name', 'Volume', 'Volume_USD', 'Market_Cap', 'Market_Cap_USD',\n",
      "       'Sales', 'Floor_Price', 'Floor_Price_USD', 'Average_Price',\n",
      "       'Average_Price_USD', 'Owners', 'Assets', 'Owner_Asset_Ratio',\n",
      "       'Category', 'Website', 'Logo'],\n",
      "      dtype='object')\n"
     ]
    }
   ],
   "source": [
    "print(df.columns)"
   ]
  },
  {
   "cell_type": "code",
   "execution_count": 15,
   "id": "099eeeaf",
   "metadata": {},
   "outputs": [
    {
     "name": "stdout",
     "output_type": "stream",
     "text": [
      "592\n"
     ]
    }
   ],
   "source": [
    "print(len(df))"
   ]
  }
 ],
 "metadata": {
  "kernelspec": {
   "display_name": "Python 3 (ipykernel)",
   "language": "python",
   "name": "python3"
  },
  "language_info": {
   "codemirror_mode": {
    "name": "ipython",
    "version": 3
   },
   "file_extension": ".py",
   "mimetype": "text/x-python",
   "name": "python",
   "nbconvert_exporter": "python",
   "pygments_lexer": "ipython3",
   "version": "3.10.16"
  }
 },
 "nbformat": 4,
 "nbformat_minor": 5
}
